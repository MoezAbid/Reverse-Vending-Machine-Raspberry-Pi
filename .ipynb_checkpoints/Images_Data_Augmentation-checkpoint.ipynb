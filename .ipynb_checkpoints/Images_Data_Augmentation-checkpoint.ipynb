{
 "cells": [
  {
   "cell_type": "code",
   "execution_count": 1,
   "metadata": {},
   "outputs": [],
   "source": [
    "import Augmentor"
   ]
  },
  {
   "cell_type": "code",
   "execution_count": 5,
   "metadata": {},
   "outputs": [
    {
     "name": "stdout",
     "output_type": "stream",
     "text": [
      "Initialised with 1075 image(s) found.\n",
      "Output directory set to /media/moez/Local Disk/ESPRIT/4_Data_Science/Semestre 2/PIDS/Reverse_Vending_Machine/Final_Data/Data_Original/Data/output."
     ]
    }
   ],
   "source": [
    "p = Augmentor.Pipeline(\"./Data\")\n",
    "p.rotate(probability=0.7, max_left_rotation=20, max_right_rotation=20)\n",
    "p.zoom(probability=0.5, min_factor=0.8, max_factor=1.1)\n",
    "p.skew_tilt(probability=0.5)\n",
    "p.random_distortion(probability=0.5, grid_width=4, grid_height=4, magnitude=8)\n",
    "p.crop_random(probability=0.5, percentage_area=0.5)\n",
    "p.flip_random(probability=1)"
   ]
  },
  {
   "cell_type": "code",
   "execution_count": 6,
   "metadata": {},
   "outputs": [
    {
     "name": "stderr",
     "output_type": "stream",
     "text": [
      "Processing <PIL.Image.Image image mode=RGB size=512x384 at 0x7F8B404C52E8>:  76%|███████▌  | 5332/7000 [02:04<00:01, 896.63 Samples/s] IOPub message rate exceeded.\n",
      "The notebook server will temporarily stop sending output\n",
      "to the client in order to avoid crashing it.\n",
      "To change this limit, set the config variable\n",
      "`--NotebookApp.iopub_msg_rate_limit`.\n",
      "\n",
      "Current values:\n",
      "NotebookApp.iopub_msg_rate_limit=1000.0 (msgs/sec)\n",
      "NotebookApp.rate_limit_window=3.0 (secs)\n",
      "\n",
      "Processing <PIL.Image.Image image mode=RGB size=100x75 at 0x7F8B2048FC18>: 100%|██████████| 7000/7000 [02:05<00:00, 55.81 Samples/s]    \n"
     ]
    }
   ],
   "source": [
    "# Generating 7000 images.\n",
    "p.sample(7000)"
   ]
  },
  {
   "cell_type": "code",
   "execution_count": null,
   "metadata": {},
   "outputs": [],
   "source": []
  }
 ],
 "metadata": {
  "kernelspec": {
   "display_name": "Python 3",
   "language": "python",
   "name": "python3"
  },
  "language_info": {
   "codemirror_mode": {
    "name": "ipython",
    "version": 3
   },
   "file_extension": ".py",
   "mimetype": "text/x-python",
   "name": "python",
   "nbconvert_exporter": "python",
   "pygments_lexer": "ipython3",
   "version": "3.7.4"
  }
 },
 "nbformat": 4,
 "nbformat_minor": 4
}
